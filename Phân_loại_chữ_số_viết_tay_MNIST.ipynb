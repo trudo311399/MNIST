{
  "nbformat": 4,
  "nbformat_minor": 0,
  "metadata": {
    "colab": {
      "name": "Phân loại chữ số viết tay MNIST.ipynb",
      "provenance": [],
      "mount_file_id": "1mFdlRErXuPTQVBtJivVhtHytWnFnOH6-",
      "authorship_tag": "ABX9TyMkAZ9sx0H3QTYDhMXn1I/v",
      "include_colab_link": true
    },
    "kernelspec": {
      "name": "python3",
      "display_name": "Python 3"
    },
    "accelerator": "TPU"
  },
  "cells": [
    {
      "cell_type": "markdown",
      "metadata": {
        "id": "view-in-github",
        "colab_type": "text"
      },
      "source": [
        "<a href=\"https://colab.research.google.com/github/trudo311399/MNIST/blob/main/Ph%C3%A2n_lo%E1%BA%A1i_ch%E1%BB%AF_s%E1%BB%91_vi%E1%BA%BFt_tay_MNIST.ipynb\" target=\"_parent\"><img src=\"https://colab.research.google.com/assets/colab-badge.svg\" alt=\"Open In Colab\"/></a>"
      ]
    },
    {
      "cell_type": "code",
      "metadata": {
        "id": "r8kiLwByoJRI"
      },
      "source": [
        "# import library\r\n",
        "from keras.datasets import mnist\r\n",
        "from keras.models import Sequential\r\n",
        "from keras.layers import Dense, Dropout, Activation, Flatten, Conv2D, MaxPool2D, BatchNormalization\r\n",
        "from keras.utils import np_utils\r\n",
        "import matplotlib.pyplot as plt"
      ],
      "execution_count": 1,
      "outputs": []
    },
    {
      "cell_type": "code",
      "metadata": {
        "colab": {
          "base_uri": "https://localhost:8080/"
        },
        "id": "W99icf7Fqhmr",
        "outputId": "1de872a2-5d34-4434-fbd1-c10ecce2dbb7"
      },
      "source": [
        "(x_train, y_train), (x_val, y_val) = mnist.load_data()"
      ],
      "execution_count": 2,
      "outputs": [
        {
          "output_type": "stream",
          "text": [
            "Downloading data from https://storage.googleapis.com/tensorflow/tf-keras-datasets/mnist.npz\n",
            "11493376/11490434 [==============================] - 0s 0us/step\n"
          ],
          "name": "stdout"
        }
      ]
    },
    {
      "cell_type": "code",
      "metadata": {
        "colab": {
          "base_uri": "https://localhost:8080/"
        },
        "id": "JJNHxGyiquOt",
        "outputId": "12e65ce3-e8f5-452e-c444-2ea4c8443daa"
      },
      "source": [
        "print('Shape training set {} and validation set {}.' .format(x_train.shape, x_val.shape))"
      ],
      "execution_count": 3,
      "outputs": [
        {
          "output_type": "stream",
          "text": [
            "Shape training set (60000, 28, 28) and validation set (10000, 28, 28).\n"
          ],
          "name": "stdout"
        }
      ]
    },
    {
      "cell_type": "code",
      "metadata": {
        "colab": {
          "base_uri": "https://localhost:8080/",
          "height": 282
        },
        "id": "Wu3DUEcIsEqO",
        "outputId": "42b5d217-175a-413c-bb0b-6d288ef45e12"
      },
      "source": [
        "plt.imshow(x_train[0])"
      ],
      "execution_count": 4,
      "outputs": [
        {
          "output_type": "execute_result",
          "data": {
            "text/plain": [
              "<matplotlib.image.AxesImage at 0x7ff86e3625d0>"
            ]
          },
          "metadata": {
            "tags": []
          },
          "execution_count": 4
        },
        {
          "output_type": "display_data",
          "data": {
            "image/png": "[encoded data removed]",
            "text/plain": [
              "<Figure size 432x288 with 1 Axes>"
            ]
          },
          "metadata": {
            "tags": [],
            "needs_background": "light"
          }
        }
      ]
    },
    {
      "cell_type": "code",
      "metadata": {
        "colab": {
          "base_uri": "https://localhost:8080/"
        },
        "id": "bd6A_Jxjs-45",
        "outputId": "a9841a55-ff99-4808-d6d2-0d3fa2737dbd"
      },
      "source": [
        "y_train[0]"
      ],
      "execution_count": 5,
      "outputs": [
        {
          "output_type": "execute_result",
          "data": {
            "text/plain": [
              "5"
            ]
          },
          "metadata": {
            "tags": []
          },
          "execution_count": 5
        }
      ]
    },
    {
      "cell_type": "code",
      "metadata": {
        "colab": {
          "base_uri": "https://localhost:8080/",
          "height": 282
        },
        "id": "YAhM_24WtE5X",
        "outputId": "a3fca36a-a8ef-4694-97e4-e15c8af42046"
      },
      "source": [
        "plt.imshow(x_val[0])"
      ],
      "execution_count": 6,
      "outputs": [
        {
          "output_type": "execute_result",
          "data": {
            "text/plain": [
              "<matplotlib.image.AxesImage at 0x7ff86dec72d0>"
            ]
          },
          "metadata": {
            "tags": []
          },
          "execution_count": 6
        },
        {
          "output_type": "display_data",
          "data": {
            "image/png": "[encoded data removed]",
            "text/plain": [
              "<Figure size 432x288 with 1 Axes>"
            ]
          },
          "metadata": {
            "tags": [],
            "needs_background": "light"
          }
        }
      ]
    },
    {
      "cell_type": "code",
      "metadata": {
        "colab": {
          "base_uri": "https://localhost:8080/"
        },
        "id": "ZffCTofztI9u",
        "outputId": "64f46593-f3e3-40be-d6fc-87ab10cf50af"
      },
      "source": [
        "y_val[0]"
      ],
      "execution_count": 7,
      "outputs": [
        {
          "output_type": "execute_result",
          "data": {
            "text/plain": [
              "7"
            ]
          },
          "metadata": {
            "tags": []
          },
          "execution_count": 7
        }
      ]
    },
    {
      "cell_type": "code",
      "metadata": {
        "id": "Or6_W39VtL4H"
      },
      "source": [
        "# reshape lại dữ liệu\r\n",
        "x_train = x_train.reshape(x_train.shape[0], 28, 28, 1)\r\n",
        "x_val = x_val.reshape(x_val.shape[0], 28, 28, 1)"
      ],
      "execution_count": 8,
      "outputs": []
    },
    {
      "cell_type": "code",
      "metadata": {
        "id": "5Xm10BB9uQtz"
      },
      "source": [
        "# one hot encoding label y\r\n",
        "y_train = np_utils.to_categorical(y_train, 10)\r\n",
        "y_val = np_utils.to_categorical(y_val, 10)"
      ],
      "execution_count": 9,
      "outputs": []
    },
    {
      "cell_type": "code",
      "metadata": {
        "colab": {
          "base_uri": "https://localhost:8080/"
        },
        "id": "K0lJ9mvIvaXV",
        "outputId": "4e7b3225-4ef7-43d2-bca0-69b106f5e27f"
      },
      "source": [
        "print('Label y sau one-hot encoding {}'  .format(y_train[0]))"
      ],
      "execution_count": 10,
      "outputs": [
        {
          "output_type": "stream",
          "text": [
            "Label y sau one-hot encoding [0. 0. 0. 0. 0. 1. 0. 0. 0. 0.]\n"
          ],
          "name": "stdout"
        }
      ]
    },
    {
      "cell_type": "code",
      "metadata": {
        "id": "lr-NpCu-wEBa"
      },
      "source": [
        "EPOCHS = 20\r\n",
        "INPUT_SHAPE = (28, 28, 1)\r\n",
        "MODEL_DIR = \"/content/drive/MyDrive/AI_COLAB/MNIST/models/\"\r\n",
        "MODEL_FILE = \"validation_new\""
      ],
      "execution_count": 11,
      "outputs": []
    },
    {
      "cell_type": "code",
      "metadata": {
        "colab": {
          "base_uri": "https://localhost:8080/"
        },
        "id": "PtNG_wYEvfPu",
        "outputId": "e04f5ec4-bed6-4d7c-c2e2-def81bf112e3"
      },
      "source": [
        "# định nghia model\r\n",
        "model = Sequential()\r\n",
        "\r\n",
        "model.add(Conv2D(32, (3, 3), activation='relu', input_shape=INPUT_SHAPE))\r\n",
        "\r\n",
        "model.add(BatchNormalization())\r\n",
        "\r\n",
        "model.add(Conv2D(364, (3, 3), activation='relu'))\r\n",
        "\r\n",
        "model.add(MaxPool2D())\r\n",
        "\r\n",
        "model.add(Conv2D(128, (3, 3), activation='relu'))\r\n",
        "\r\n",
        "model.add(BatchNormalization())\r\n",
        "\r\n",
        "model.add(Conv2D(128, (3, 3), activation='relu'))\r\n",
        "\r\n",
        "model.add(MaxPool2D())\r\n",
        "\r\n",
        "# flatten chuyển tensor sang vector\r\n",
        "model.add(Flatten())\r\n",
        "\r\n",
        "# thêm fully connected layer với 256 nodes dùng hàm sigmoid\r\n",
        "model.add(Dense(256, activation='relu'))\r\n",
        "\r\n",
        "model.add(Dropout(0.4))\r\n",
        "\r\n",
        "model.add(Dense(256, activation='relu'))\r\n",
        "\r\n",
        "model.add(Dropout(0.3))\r\n",
        "\r\n",
        "# output layer có 10 nodes và dùng softmax function để chuyển sang xác xuất\r\n",
        "model.add(Dense(10, activation='softmax'))\r\n",
        "\r\n",
        "# compile model, loss function: categorical crossentropy, phương thức để tối ưu loss function (optimizer): adam\r\n",
        "model.compile(loss='categorical_crossentropy', optimizer='adam', metrics=['accuracy'])\r\n",
        "\r\n",
        "# hiển thị model\r\n",
        "model.summary()"
      ],
      "execution_count": 12,
      "outputs": [
        {
          "output_type": "stream",
          "text": [
            "Model: \"sequential\"\n",
            "_________________________________________________________________\n",
            "Layer (type)                 Output Shape              Param #   \n",
            "=================================================================\n",
            "conv2d (Conv2D)              (None, 26, 26, 32)        320       \n",
            "_________________________________________________________________\n",
            "batch_normalization (BatchNo (None, 26, 26, 32)        128       \n",
            "_________________________________________________________________\n",
            "conv2d_1 (Conv2D)            (None, 24, 24, 364)       105196    \n",
            "_________________________________________________________________\n",
            "max_pooling2d (MaxPooling2D) (None, 12, 12, 364)       0         \n",
            "_________________________________________________________________\n",
            "conv2d_2 (Conv2D)            (None, 10, 10, 128)       419456    \n",
            "_________________________________________________________________\n",
            "batch_normalization_1 (Batch (None, 10, 10, 128)       512       \n",
            "_________________________________________________________________\n",
            "conv2d_3 (Conv2D)            (None, 8, 8, 128)         147584    \n",
            "_________________________________________________________________\n",
            "max_pooling2d_1 (MaxPooling2 (None, 4, 4, 128)         0         \n",
            "_________________________________________________________________\n",
            "flatten (Flatten)            (None, 2048)              0         \n",
            "_________________________________________________________________\n",
            "dense (Dense)                (None, 256)               524544    \n",
            "_________________________________________________________________\n",
            "dropout (Dropout)            (None, 256)               0         \n",
            "_________________________________________________________________\n",
            "dense_1 (Dense)              (None, 256)               65792     \n",
            "_________________________________________________________________\n",
            "dropout_1 (Dropout)          (None, 256)               0         \n",
            "_________________________________________________________________\n",
            "dense_2 (Dense)              (None, 10)                2570      \n",
            "=================================================================\n",
            "Total params: 1,266,102\n",
            "Trainable params: 1,265,782\n",
            "Non-trainable params: 320\n",
            "_________________________________________________________________\n"
          ],
          "name": "stdout"
        }
      ]
    },
    {
      "cell_type": "code",
      "metadata": {
        "id": "CrFlki3a2Egg"
      },
      "source": [
        "from keras.callbacks import ModelCheckpoint\r\n",
        "\r\n",
        "callbacks = ModelCheckpoint(filepath=MODEL_DIR + MODEL_FILE + \".{epoch:02d}-{val_loss:.2f}.hdf5\")"
      ],
      "execution_count": 13,
      "outputs": []
    },
    {
      "cell_type": "code",
      "metadata": {
        "colab": {
          "base_uri": "https://localhost:8080/"
        },
        "id": "f3bsU_9c6l7_",
        "outputId": "3c5005d6-dcaa-4d81-a0db-1e37a3f39e82"
      },
      "source": [
        "history = model.fit(x_train, y_train, validation_data=(x_val, y_val), epochs=EPOCHS, callbacks=callbacks, batch_size=32)"
      ],
      "execution_count": 14,
      "outputs": [
        {
          "output_type": "stream",
          "text": [
            "Epoch 1/20\n",
            "1875/1875 [==============================] - 994s 529ms/step - loss: 0.4071 - accuracy: 0.8774 - val_loss: 0.0571 - val_accuracy: 0.9828\n",
            "Epoch 2/20\n",
            "1875/1875 [==============================] - 984s 525ms/step - loss: 0.0855 - accuracy: 0.9782 - val_loss: 0.0670 - val_accuracy: 0.9841\n",
            "Epoch 3/20\n",
            "1875/1875 [==============================] - 981s 523ms/step - loss: 0.0572 - accuracy: 0.9851 - val_loss: 0.0358 - val_accuracy: 0.9902\n",
            "Epoch 4/20\n",
            "1875/1875 [==============================] - 982s 524ms/step - loss: 0.0468 - accuracy: 0.9878 - val_loss: 0.0385 - val_accuracy: 0.9898\n",
            "Epoch 5/20\n",
            "1875/1875 [==============================] - 984s 525ms/step - loss: 0.0420 - accuracy: 0.9893 - val_loss: 0.0417 - val_accuracy: 0.9886\n",
            "Epoch 6/20\n",
            "1875/1875 [==============================] - 987s 526ms/step - loss: 0.0384 - accuracy: 0.9901 - val_loss: 0.0389 - val_accuracy: 0.9899\n",
            "Epoch 7/20\n",
            "1875/1875 [==============================] - 991s 528ms/step - loss: 0.0337 - accuracy: 0.9917 - val_loss: 0.0322 - val_accuracy: 0.9923\n",
            "Epoch 8/20\n",
            "1875/1875 [==============================] - 992s 529ms/step - loss: 0.0340 - accuracy: 0.9919 - val_loss: 0.0429 - val_accuracy: 0.9906\n",
            "Epoch 9/20\n",
            "1875/1875 [==============================] - 992s 529ms/step - loss: 0.0295 - accuracy: 0.9932 - val_loss: 0.0620 - val_accuracy: 0.9878\n",
            "Epoch 10/20\n",
            "1875/1875 [==============================] - 990s 528ms/step - loss: 0.0271 - accuracy: 0.9927 - val_loss: 0.0375 - val_accuracy: 0.9914\n",
            "Epoch 11/20\n",
            "1875/1875 [==============================] - 989s 528ms/step - loss: 0.0243 - accuracy: 0.9939 - val_loss: 0.0330 - val_accuracy: 0.9923\n",
            "Epoch 12/20\n",
            "1875/1875 [==============================] - 985s 525ms/step - loss: 0.0186 - accuracy: 0.9955 - val_loss: 0.0339 - val_accuracy: 0.9927\n",
            "Epoch 13/20\n",
            "1875/1875 [==============================] - 985s 525ms/step - loss: 0.0202 - accuracy: 0.9949 - val_loss: 0.0340 - val_accuracy: 0.9950\n",
            "Epoch 14/20\n",
            "1875/1875 [==============================] - 985s 525ms/step - loss: 0.0241 - accuracy: 0.9946 - val_loss: 0.0390 - val_accuracy: 0.9902\n",
            "Epoch 15/20\n",
            "1875/1875 [==============================] - 986s 526ms/step - loss: 0.0220 - accuracy: 0.9948 - val_loss: 0.0651 - val_accuracy: 0.9917\n",
            "Epoch 16/20\n",
            "1875/1875 [==============================] - 988s 527ms/step - loss: 0.0196 - accuracy: 0.9955 - val_loss: 0.0370 - val_accuracy: 0.9923\n",
            "Epoch 17/20\n",
            "1875/1875 [==============================] - 986s 526ms/step - loss: 0.0206 - accuracy: 0.9957 - val_loss: 0.0549 - val_accuracy: 0.9929\n",
            "Epoch 18/20\n",
            "1875/1875 [==============================] - 988s 527ms/step - loss: 0.0191 - accuracy: 0.9957 - val_loss: 0.0395 - val_accuracy: 0.9934\n",
            "Epoch 19/20\n",
            "1875/1875 [==============================] - 989s 528ms/step - loss: 0.0209 - accuracy: 0.9955 - val_loss: 0.0356 - val_accuracy: 0.9933\n",
            "Epoch 20/20\n",
            "1875/1875 [==============================] - 994s 530ms/step - loss: 0.0194 - accuracy: 0.9961 - val_loss: 0.0378 - val_accuracy: 0.9915\n"
          ],
          "name": "stdout"
        }
      ]
    },
    {
      "cell_type": "code",
      "metadata": {
        "id": "ZGDLw44QUKQV"
      },
      "source": [
        "model.save(MODEL_DIR + 'mnist_model.h5')"
      ],
      "execution_count": 16,
      "outputs": []
    },
    {
      "cell_type": "code",
      "metadata": {
        "colab": {
          "base_uri": "https://localhost:8080/",
          "height": 295
        },
        "id": "dwsc784OUpIr",
        "outputId": "dae28f90-661f-41d7-f3af-cf02df409c8a"
      },
      "source": [
        "import numpy as np\r\n",
        "\r\n",
        "# vẽ đồ thị loss, accuracy của training set và validation set\r\n",
        "fig = plt.figure()\r\n",
        "x = np.arange(EPOCHS)\r\n",
        "plt.plot(x, history.history['loss'], label='training loss')\r\n",
        "plt.plot(x, history.history['val_loss'], label='validation loss')\r\n",
        "plt.plot(x, history.history['accuracy'], label='training accuracy')\r\n",
        "plt.plot(x, history.history['val_accuracy'], label='validation accuracy')\r\n",
        "plt.title('Accracy and loss')\r\n",
        "plt.xlabel('epochs')\r\n",
        "plt.ylabel('accuracy|loss')\r\n",
        "plt.legend()\r\n",
        "plt.show()"
      ],
      "execution_count": 18,
      "outputs": [
        {
          "output_type": "display_data",
          "data": {
            "image/png": "[encoded data removed]",
            "text/plain": [
              "<Figure size 432x288 with 1 Axes>"
            ]
          },
          "metadata": {
            "tags": [],
            "needs_background": "light"
          }
        }
      ]
    }
  ]
}